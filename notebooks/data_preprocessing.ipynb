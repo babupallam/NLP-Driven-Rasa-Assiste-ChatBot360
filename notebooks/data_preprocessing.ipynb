{
 "cells": [
  {
   "metadata": {},
   "cell_type": "markdown",
   "source": "",
   "id": "ab19c333fded97e0"
  },
  {
   "metadata": {},
   "cell_type": "markdown",
   "source": [
    "#### **Section 1: Import Libraries**\n",
    "\n",
    "This section includes importing all the necessary libraries for data manipulation, text preprocessing, and visualization.\n",
    "\n"
   ],
   "id": "19c2520603b90759"
  },
  {
   "metadata": {
    "collapsed": true,
    "ExecuteTime": {
     "end_time": "2024-11-29T14:50:42.465729Z",
     "start_time": "2024-11-29T14:50:42.452924Z"
    }
   },
   "cell_type": "code",
   "source": [
    "# Step 1: Import Libraries\n",
    "import pandas as pd\n",
    "import numpy as np\n",
    "import re\n",
    "import nltk\n",
    "import matplotlib.pyplot as plt\n",
    "import seaborn as sns\n",
    "\n",
    "# Download necessary NLTK resources (only needed the first time)\n",
    "nltk.download('punkt')\n",
    "nltk.download('wordnet')\n",
    "nltk.download('stopwords')\n",
    "\n",
    "from nltk.tokenize import word_tokenize\n",
    "from nltk.corpus import stopwords\n",
    "from nltk.stem import WordNetLemmatizer\n",
    "\n",
    "# Set options to display more columns and rows in pandas for better analysis\n",
    "pd.set_option('display.max_columns', None)\n",
    "pd.set_option('display.max_rows', 100)\n",
    "\n",
    "# Observation:\n",
    "# This section sets up the environment with all necessary tools and resources for handling and visualizing the dataset.\n",
    "# NLTK is used for natural language processing (tokenization, stopword removal, and lemmatization).\n"
   ],
   "id": "504bb2db51012a92",
   "outputs": [
    {
     "name": "stderr",
     "output_type": "stream",
     "text": [
      "[nltk_data] Downloading package punkt to\n",
      "[nltk_data]     C:\\Users\\Girija\\AppData\\Roaming\\nltk_data...\n",
      "[nltk_data]   Package punkt is already up-to-date!\n",
      "[nltk_data] Downloading package wordnet to\n",
      "[nltk_data]     C:\\Users\\Girija\\AppData\\Roaming\\nltk_data...\n",
      "[nltk_data]   Package wordnet is already up-to-date!\n",
      "[nltk_data] Downloading package stopwords to\n",
      "[nltk_data]     C:\\Users\\Girija\\AppData\\Roaming\\nltk_data...\n",
      "[nltk_data]   Package stopwords is already up-to-date!\n"
     ]
    }
   ],
   "execution_count": 21
  },
  {
   "metadata": {},
   "cell_type": "markdown",
   "source": [
    "#### **Section 2: Load the Dataset**\n",
    "\n",
    "Here, the dataset is loaded from the file path, and an initial look at the dataset's structure is conducted to verify the columns and get a sense of the data.\n",
    "\n"
   ],
   "id": "7086c93a5330cb61"
  },
  {
   "metadata": {
    "collapsed": true,
    "ExecuteTime": {
     "end_time": "2024-11-29T14:51:25.515508Z",
     "start_time": "2024-11-29T14:51:02.001405Z"
    }
   },
   "cell_type": "code",
   "source": [
    "# Step 2: Load the Dataset\n",
    "file_path = \"../data/raw/customer_support_dataset.csv\"\n",
    "df = pd.read_csv(file_path)\n",
    "\n",
    "# Display column names to verify them\n",
    "print(\"Columns in the dataset:\")\n",
    "print(df.columns)\n",
    "\n",
    "# Observation:\n",
    "# It is essential to verify column names to ensure that they align with our preprocessing script expectations.\n",
    "# This helps in determining the correct column names for customer queries and support responses.\n"
   ],
   "id": "ab809c1fa33e7d9",
   "outputs": [
    {
     "name": "stdout",
     "output_type": "stream",
     "text": [
      "Columns in the dataset:\n",
      "Index(['tweet_id', 'author_id', 'inbound', 'created_at', 'text',\n",
      "       'response_tweet_id', 'in_response_to_tweet_id'],\n",
      "      dtype='object')\n"
     ]
    }
   ],
   "execution_count": 22
  },
  {
   "metadata": {},
   "cell_type": "markdown",
   "source": [
    "#### **Section 3: Filter Customer Queries and Responses**\n",
    "\n",
    "In this section, the dataset is filtered to separate customer queries (inbound) from support responses (outbound). We assume that each response directly follows a corresponding customer query.\n",
    "\n"
   ],
   "id": "afc7b6a099dee445"
  },
  {
   "metadata": {
    "collapsed": true,
    "ExecuteTime": {
     "end_time": "2024-11-29T14:51:30.457366Z",
     "start_time": "2024-11-29T14:51:25.546437Z"
    }
   },
   "cell_type": "code",
   "source": [
    "# Set column names based on your dataset\n",
    "# 'text' column contains message text, 'inbound' tells whether it is a customer query\n",
    "TEXT_COLUMN = 'text'\n",
    "INBOUND_COLUMN = 'inbound'\n",
    "\n",
    "# Step 3: Filter Customer Queries and Responses\n",
    "# Separate customer queries (inbound = True) and responses (inbound = False)\n",
    "customer_queries = df[df[INBOUND_COLUMN] == True]\n",
    "support_responses = df[df[INBOUND_COLUMN] == False]\n",
    "\n",
    "# Reset indices for easier handling later\n",
    "customer_queries.reset_index(drop=True, inplace=True)\n",
    "support_responses.reset_index(drop=True, inplace=True)\n",
    "\n",
    "# Combine customer queries and responses by aligning them on their conversational order\n",
    "# Assuming that each response directly follows its corresponding query in the dataset\n",
    "combined_df = pd.DataFrame({\n",
    "    'customer_query': customer_queries[TEXT_COLUMN],\n",
    "    'support_response': support_responses[TEXT_COLUMN]\n",
    "})\n",
    "\n",
    "# Drop rows with missing data to ensure clean pairs\n",
    "combined_df.dropna(inplace=True)\n",
    "\n",
    "# Observation:\n",
    "# This section pairs customer queries with corresponding responses.\n",
    "# The assumption here is that each response follows directly after its corresponding query.\n",
    "# This assumption needs to be validated to ensure accuracy in conversational pairs.\n"
   ],
   "id": "b327e34e71c081a0",
   "outputs": [],
   "execution_count": 23
  },
  {
   "metadata": {},
   "cell_type": "markdown",
   "source": [
    "#### **Section 4: Exploratory Data Analysis (EDA)**\n",
    "\n",
    "This section includes exploring and analyzing the dataset, including checking data types, identifying missing values, and visualizing the length distributions of customer queries and responses.\n",
    "\n"
   ],
   "id": "4a27b530eb45706c"
  },
  {
   "metadata": {
    "collapsed": true,
    "ExecuteTime": {
     "end_time": "2024-11-29T14:51:42.116173Z",
     "start_time": "2024-11-29T14:51:37.748164Z"
    }
   },
   "cell_type": "code",
   "source": [
    "# Step 4: Exploratory Data Analysis (EDA)\n",
    "\n",
    "# 4.1 Basic Information About Dataset\n",
    "print(combined_df.info())\n",
    "print(f\"Number of rows: {combined_df.shape[0]}, Number of columns: {combined_df.shape[1]}\")\n",
    "\n",
    "# 4.2 Column Analysis\n",
    "for column in combined_df.columns:\n",
    "    print(f\"Sample values for column '{column}':\")\n",
    "    print(combined_df[column].head(), '\\n')\n",
    "\n",
    "# 4.3 Handling Missing Values\n",
    "print(\"Missing values in dataset:\")\n",
    "print(combined_df.isnull().sum())\n",
    "\n",
    "# 4.4 Analysis of Text Fields\n",
    "# Add columns for length of queries and responses\n",
    "combined_df['query_length'] = combined_df['customer_query'].apply(lambda x: len(str(x)))\n",
    "combined_df['response_length'] = combined_df['support_response'].apply(lambda x: len(str(x)))\n",
    "\n",
    "# Plot distribution of text lengths\n",
    "plt.figure(figsize=(14, 6))\n",
    "plt.hist(combined_df['query_length'], bins=50, alpha=0.7, label='Customer Query Length')\n",
    "plt.hist(combined_df['response_length'], bins=50, alpha=0.7, label='Support Response Length')\n",
    "plt.xlabel('Text Length')\n",
    "plt.ylabel('Frequency')\n",
    "plt.title('Distribution of Query and Response Lengths')\n",
    "plt.legend()\n",
    "plt.show()\n",
    "\n",
    "# Observation:\n",
    "# The distribution of text lengths helps identify if there are very short or excessively long queries/responses.\n",
    "# Such outliers might need special handling, as they could negatively affect model training.\n"
   ],
   "id": "aae0d4f45f7edacf",
   "outputs": [
    {
     "name": "stdout",
     "output_type": "stream",
     "text": [
      "<class 'pandas.core.frame.DataFrame'>\n",
      "Index: 1273931 entries, 0 to 1273930\n",
      "Data columns (total 2 columns):\n",
      " #   Column            Non-Null Count    Dtype \n",
      "---  ------            --------------    ----- \n",
      " 0   customer_query    1273931 non-null  object\n",
      " 1   support_response  1273931 non-null  object\n",
      "dtypes: object(2)\n",
      "memory usage: 29.2+ MB\n",
      "None\n",
      "Number of rows: 1273931, Number of columns: 2\n",
      "Sample values for column 'customer_query':\n",
      "0        @sprintcare and how do you propose we do that\n",
      "1    @sprintcare I have sent several private messag...\n",
      "2                                   @sprintcare I did.\n",
      "3            @sprintcare is the worst customer service\n",
      "4    @sprintcare You gonna magically change your co...\n",
      "Name: customer_query, dtype: object \n",
      "\n",
      "Sample values for column 'support_response':\n",
      "0    @115712 I understand. I would like to assist y...\n",
      "1    @115712 Please send us a Private Message so th...\n",
      "2    @115712 Can you please send us a private messa...\n",
      "3    @115713 This is saddening to hear. Please shoo...\n",
      "4    @115713 We understand your concerns and we'd l...\n",
      "Name: support_response, dtype: object \n",
      "\n",
      "Missing values in dataset:\n",
      "customer_query      0\n",
      "support_response    0\n",
      "dtype: int64\n"
     ]
    },
    {
     "data": {
      "text/plain": [
       "<Figure size 1400x600 with 1 Axes>"
      ],
      "image/png": "[encoded data removed]"
     },
     "metadata": {},
     "output_type": "display_data"
    }
   ],
   "execution_count": 24
  },
  {
   "metadata": {},
   "cell_type": "markdown",
   "source": [
    "#### **Section 5: Data Cleaning**\n",
    "\n",
    "This section involves dropping irrelevant columns (if any), handling duplicate rows, and ensuring the data is clean for further processing.\n",
    "\n"
   ],
   "id": "19ecdb002c79c0b6"
  },
  {
   "metadata": {
    "collapsed": true,
    "ExecuteTime": {
     "end_time": "2024-11-29T14:52:04.105211Z",
     "start_time": "2024-11-29T14:51:57.878088Z"
    }
   },
   "cell_type": "code",
   "source": [
    "# Step 5: Data Cleaning\n",
    "\n",
    "# 5.1 Drop Irrelevant Columns (already filtered for relevant data)\n",
    "# Note: No specific irrelevant columns were mentioned, so this step is skipped in practice.\n",
    "\n",
    "# 5.2 Handling Duplicates\n",
    "print(f\"Number of duplicate rows: {combined_df.duplicated().sum()}\")\n",
    "combined_df.drop_duplicates(inplace=True)\n",
    "print(f\"Number of rows after dropping duplicates: {combined_df.shape[0]}\")\n",
    "\n",
    "# Observation:\n",
    "# Duplicate rows are dropped to prevent redundancy, which could lead to biased training.\n"
   ],
   "id": "d5731bb85ea14d5e",
   "outputs": [
    {
     "name": "stdout",
     "output_type": "stream",
     "text": [
      "Number of duplicate rows: 0\n",
      "Number of rows after dropping duplicates: 1273931\n"
     ]
    }
   ],
   "execution_count": 25
  },
  {
   "metadata": {},
   "cell_type": "markdown",
   "source": [
    "#### **Section 6: Text Preprocessing**\n",
    "\n",
    "In this section, text preprocessing techniques are applied, such as normalization, tokenization, stop word removal, lemmatization, and entity replacement.\n",
    "\n",
    "##### **6.1 Text Normalization**\n",
    "\n"
   ],
   "id": "182c54b366eabb9d"
  },
  {
   "metadata": {
    "collapsed": true,
    "ExecuteTime": {
     "end_time": "2024-11-29T14:52:39.998177Z",
     "start_time": "2024-11-29T14:52:14.444472Z"
    }
   },
   "cell_type": "code",
   "source": [
    "# 6.1 Text Normalization\n",
    "def normalize_text(text):\n",
    "    text = text.lower()  # Convert to lowercase\n",
    "    text = re.sub(r'[^a-z\\s]', '', text)  # Remove special characters and numbers\n",
    "    return text\n",
    "\n",
    "combined_df['customer_query'] = combined_df['customer_query'].apply(normalize_text)\n",
    "combined_df['support_response'] = combined_df['support_response'].apply(normalize_text)\n",
    "print(combined_df[['customer_query', 'support_response']].head())\n",
    "\n",
    "# Observation:\n",
    "# Normalizing text by converting it to lowercase and removing special characters helps standardize the input.\n",
    "# This step ensures that the model learns from a uniform text representation.\n"
   ],
   "id": "415aee04c315afd6",
   "outputs": [
    {
     "name": "stdout",
     "output_type": "stream",
     "text": [
      "                                      customer_query  \\\n",
      "0       sprintcare and how do you propose we do that   \n",
      "1  sprintcare i have sent several private message...   \n",
      "2                                   sprintcare i did   \n",
      "3           sprintcare is the worst customer service   \n",
      "4  sprintcare you gonna magically change your con...   \n",
      "\n",
      "                                    support_response  \n",
      "0   i understand i would like to assist you we wo...  \n",
      "1   please send us a private message so that we c...  \n",
      "2   can you please send us a private message so t...  \n",
      "3   this is saddening to hear please shoot us a d...  \n",
      "4   we understand your concerns and wed like for ...  \n"
     ]
    }
   ],
   "execution_count": 26
  },
  {
   "metadata": {
    "ExecuteTime": {
     "end_time": "2024-11-29T15:03:06.613283Z",
     "start_time": "2024-11-29T14:52:40.219747Z"
    }
   },
   "cell_type": "code",
   "source": [
    "##### **6.2 Tokenization**\n",
    "\n",
    "combined_df['customer_query_tokens'] = combined_df['customer_query'].apply(word_tokenize)\n",
    "combined_df['support_response_tokens'] = combined_df['support_response'].apply(word_tokenize)\n",
    "print(combined_df[['customer_query_tokens', 'support_response_tokens']].head())\n",
    "\n",
    "\n",
    "# Observation:\n",
    "# Tokenization splits text into individual words, making it easier for subsequent processing like stop word removal and lemmatization.\n"
   ],
   "id": "9289bd83616a5852",
   "outputs": [
    {
     "name": "stdout",
     "output_type": "stream",
     "text": [
      "                               customer_query_tokens  \\\n",
      "0  [sprintcare, and, how, do, you, propose, we, d...   \n",
      "1  [sprintcare, i, have, sent, several, private, ...   \n",
      "2                               [sprintcare, i, did]   \n",
      "3    [sprintcare, is, the, worst, customer, service]   \n",
      "4  [sprintcare, you, gon, na, magically, change, ...   \n",
      "\n",
      "                             support_response_tokens  \n",
      "0  [i, understand, i, would, like, to, assist, yo...  \n",
      "1  [please, send, us, a, private, message, so, th...  \n",
      "2  [can, you, please, send, us, a, private, messa...  \n",
      "3  [this, is, saddening, to, hear, please, shoot,...  \n",
      "4  [we, understand, your, concerns, and, wed, lik...  \n"
     ]
    }
   ],
   "execution_count": 27
  },
  {
   "metadata": {
    "ExecuteTime": {
     "end_time": "2024-11-29T14:39:48.830357Z",
     "start_time": "2024-11-29T14:39:22.916585Z"
    }
   },
   "cell_type": "code",
   "source": [
    "# 6.3 Stop Words Removal\n",
    "stop_words = set(stopwords.words('english'))\n",
    "\n",
    "combined_df['customer_query_tokens'] = combined_df['customer_query_tokens'].apply(lambda tokens: [word for word in tokens if word not in stop_words])\n",
    "combined_df['support_response_tokens'] = combined_df['support_response_tokens'].apply(lambda tokens: [word for word in tokens if word not in stop_words])\n",
    "print(combined_df[['customer_query_tokens', 'support_response_tokens']].head())\n",
    "\n"
   ],
   "id": "18b8533d674bf2dc",
   "outputs": [
    {
     "name": "stdout",
     "output_type": "stream",
     "text": [
      "                               customer_query_tokens  \\\n",
      "0                              [sprintcare, propose]   \n",
      "1  [sprintcare, sent, several, private, messages,...   \n",
      "2                                       [sprintcare]   \n",
      "3             [sprintcare, worst, customer, service]   \n",
      "4  [sprintcare, gon, na, magically, change, conne...   \n",
      "\n",
      "                             support_response_tokens  \n",
      "0  [understand, would, like, assist, would, need,...  \n",
      "1  [please, send, us, private, message, assist, c...  \n",
      "2  [please, send, us, private, message, gain, det...  \n",
      "3  [saddening, hear, please, shoot, us, dm, look,...  \n",
      "4  [understand, concerns, wed, like, please, send...  \n"
     ]
    }
   ],
   "execution_count": 16
  },
  {
   "metadata": {
    "ExecuteTime": {
     "end_time": "2024-11-29T14:46:11.559223Z",
     "start_time": "2024-11-29T14:39:48.912063Z"
    }
   },
   "cell_type": "code",
   "source": [
    "# 6.4 Lemmatization\n",
    "lemmatizer = WordNetLemmatizer()\n",
    "\n",
    "combined_df['customer_query_lemmatized'] = combined_df['customer_query_tokens'].apply(lambda tokens: [lemmatizer.lemmatize(token) for token in tokens])\n",
    "combined_df['support_response_lemmatized'] = combined_df['support_response_tokens'].apply(lambda tokens: [lemmatizer.lemmatize(token) for token in tokens])\n",
    "print(combined_df[['customer_query_lemmatized', 'support_response_lemmatized']].head())\n",
    "\n"
   ],
   "id": "2dec4e849f92dd6f",
   "outputs": [
    {
     "name": "stdout",
     "output_type": "stream",
     "text": [
      "                           customer_query_lemmatized  \\\n",
      "0                              [sprintcare, propose]   \n",
      "1  [sprintcare, sent, several, private, message, ...   \n",
      "2                                       [sprintcare]   \n",
      "3             [sprintcare, worst, customer, service]   \n",
      "4  [sprintcare, gon, na, magically, change, conne...   \n",
      "\n",
      "                         support_response_lemmatized  \n",
      "0  [understand, would, like, assist, would, need,...  \n",
      "1  [please, send, u, private, message, assist, cl...  \n",
      "2  [please, send, u, private, message, gain, deta...  \n",
      "3  [saddening, hear, please, shoot, u, dm, look, kc]  \n",
      "4  [understand, concern, wed, like, please, send,...  \n"
     ]
    }
   ],
   "execution_count": 17
  },
  {
   "metadata": {
    "ExecuteTime": {
     "end_time": "2024-11-29T14:47:06.804108Z",
     "start_time": "2024-11-29T14:46:11.800172Z"
    }
   },
   "cell_type": "code",
   "source": [
    "# 6.5 Entity Removal\n",
    "def replace_entities(text):\n",
    "    text = re.sub(r'\\b\\d+\\b', '<number>', text)  # Replace numeric values with <number>\n",
    "    text = re.sub(r'\\b[A-Z][a-z]*\\b', '<name>', text)  # Replace proper nouns with <name>\n",
    "    return text\n",
    "\n",
    "combined_df['customer_query_cleaned'] = combined_df['customer_query'].apply(replace_entities)\n",
    "combined_df['support_response_cleaned'] = combined_df['support_response'].apply(replace_entities)\n",
    "print(combined_df[['customer_query_cleaned', 'support_response_cleaned']].head())\n"
   ],
   "id": "6f1bb2f2e74ad2a3",
   "outputs": [
    {
     "name": "stdout",
     "output_type": "stream",
     "text": [
      "                              customer_query_cleaned  \\\n",
      "0       sprintcare and how do you propose we do that   \n",
      "1  sprintcare i have sent several private message...   \n",
      "2                                   sprintcare i did   \n",
      "3           sprintcare is the worst customer service   \n",
      "4  sprintcare you gonna magically change your con...   \n",
      "\n",
      "                            support_response_cleaned  \n",
      "0   i understand i would like to assist you we wo...  \n",
      "1   please send us a private message so that we c...  \n",
      "2   can you please send us a private message so t...  \n",
      "3   this is saddening to hear please shoot us a d...  \n",
      "4   we understand your concerns and wed like for ...  \n"
     ]
    }
   ],
   "execution_count": 18
  },
  {
   "metadata": {},
   "cell_type": "markdown",
   "source": "",
   "id": "f3713baf2ec0ce3d"
  },
  {
   "metadata": {
    "collapsed": true,
    "ExecuteTime": {
     "end_time": "2024-11-29T14:48:48.555746Z",
     "start_time": "2024-11-29T14:47:06.968949Z"
    }
   },
   "cell_type": "code",
   "source": [
    "\n",
    "# Step 7: Saving the Processed Data\n",
    "processed_file_path = \"../data/processed/customer_support_dataset_processed.csv\"\n",
    "combined_df.to_csv(processed_file_path, index=False)\n",
    "\n",
    "print(f\"Processed dataset saved successfully to {processed_file_path}\")\n"
   ],
   "id": "611f937838f838b0",
   "outputs": [
    {
     "name": "stdout",
     "output_type": "stream",
     "text": [
      "Processed dataset saved successfully to ../data/processed/customer_support_dataset_processed.csv\n"
     ]
    }
   ],
   "execution_count": 19
  },
  {
   "metadata": {},
   "cell_type": "markdown",
   "source": "",
   "id": "c8ce8a7de0694dff"
  },
  {
   "metadata": {
    "collapsed": true
   },
   "cell_type": "code",
   "outputs": [],
   "source": "",
   "id": "214339c123ff0c96",
   "execution_count": null
  },
  {
   "metadata": {},
   "cell_type": "markdown",
   "source": "",
   "id": "d8d7784a49a29ce8"
  },
  {
   "metadata": {
    "collapsed": true
   },
   "cell_type": "code",
   "outputs": [],
   "source": "",
   "id": "b94a4a93ada02477",
   "execution_count": null
  },
  {
   "metadata": {},
   "cell_type": "markdown",
   "source": "",
   "id": "c1f1c5356d94fcb6"
  },
  {
   "metadata": {
    "collapsed": true
   },
   "cell_type": "code",
   "outputs": [],
   "source": "",
   "id": "54105e6ebf83ad57",
   "execution_count": null
  }
 ],
 "metadata": {
  "kernelspec": {
   "display_name": "Python 3",
   "language": "python",
   "name": "python3"
  },
  "language_info": {
   "codemirror_mode": {
    "name": "ipython",
    "version": 2
   },
   "file_extension": ".py",
   "mimetype": "text/x-python",
   "name": "python",
   "nbconvert_exporter": "python",
   "pygments_lexer": "ipython2",
   "version": "2.7.6"
  }
 },
 "nbformat": 4,
 "nbformat_minor": 5
}
